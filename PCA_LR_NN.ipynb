{
 "cells": [
  {
   "cell_type": "code",
   "execution_count": 234,
   "metadata": {},
   "outputs": [],
   "source": [
    "import numpy as np\n",
    "from scipy.io import loadmat\n",
    "from sklearn.linear_model import LinearRegression\n",
    "from sklearn.decomposition import PCA\n",
    "from sklearn.pipeline import Pipeline\n",
    "from sklearn.preprocessing import StandardScaler\n",
    "from sklearn.metrics import mean_squared_error,explained_variance_score\n",
    "from lightgbm import LGBMRegressor\n",
    "from sklearn.ensemble import RandomForestRegressor\n",
    "from sklearn.model_selection import train_test_split\n",
    "from sklearn.neural_network import MLPRegressor\n",
    "from sklearn.datasets import load_boston\n",
    "from keras.wrappers.scikit_learn import KerasRegressor\n",
    "from keras.models import Sequential\n",
    "from keras.layers import Dense,Dropout\n",
    "import keras\n",
    "from mpl_toolkits.mplot3d import Axes3D\n",
    "import matplotlib.pyplot as plt"
   ]
  },
  {
   "cell_type": "markdown",
   "metadata": {},
   "source": [
    "### Boston dataset"
   ]
  },
  {
   "cell_type": "code",
   "execution_count": 247,
   "metadata": {},
   "outputs": [],
   "source": [
    "dataset = load_boston()"
   ]
  },
  {
   "cell_type": "code",
   "execution_count": 248,
   "metadata": {},
   "outputs": [],
   "source": [
    "y = dataset.target\n",
    "X = dataset.data\n",
    "X_train, X_test, y_train, y_test = train_test_split(X, y, test_size=0.25, random_state=228)"
   ]
  },
  {
   "cell_type": "code",
   "execution_count": 249,
   "metadata": {},
   "outputs": [],
   "source": [
    "scaler = StandardScaler()\n",
    "forest = RandomForestRegressor(n_estimators=100,n_jobs=-1)\n",
    "linreg = LinearRegression(normalize=True)\n",
    "boosting = LGBMRegressor()\n",
    "pca = PCA(3)"
   ]
  },
  {
   "cell_type": "markdown",
   "metadata": {},
   "source": [
    "## Линейная регрессия без pca"
   ]
  },
  {
   "cell_type": "code",
   "execution_count": 256,
   "metadata": {},
   "outputs": [],
   "source": [
    "model = linreg\n",
    "pipe = Pipeline(steps=[('model', model)])"
   ]
  },
  {
   "cell_type": "code",
   "execution_count": 257,
   "metadata": {},
   "outputs": [
    {
     "data": {
      "text/plain": [
       "Pipeline(memory=None,\n",
       "     steps=[('model', LinearRegression(copy_X=True, fit_intercept=True, n_jobs=None, normalize=True))])"
      ]
     },
     "execution_count": 257,
     "metadata": {},
     "output_type": "execute_result"
    }
   ],
   "source": [
    "pipe.fit(X_train,y_train)"
   ]
  },
  {
   "cell_type": "code",
   "execution_count": 258,
   "metadata": {},
   "outputs": [
    {
     "name": "stdout",
     "output_type": "stream",
     "text": [
      "31.838822005345882 0.7014302558523511\n"
     ]
    }
   ],
   "source": [
    "res = pipe.predict(X_test)\n",
    "mse = mean_squared_error(res,y_test) \n",
    "varience = explained_variance_score(y_test,res)\n",
    "print(mse,varience)"
   ]
  },
  {
   "cell_type": "markdown",
   "metadata": {},
   "source": [
    "## Линейная регрессия c pca до 8 компонент"
   ]
  },
  {
   "cell_type": "code",
   "execution_count": 259,
   "metadata": {},
   "outputs": [],
   "source": [
    "model = linreg\n",
    "pca = PCA(n_components=8)\n",
    "pipe = Pipeline(steps=[('pca',pca),('model', model)])"
   ]
  },
  {
   "cell_type": "code",
   "execution_count": 260,
   "metadata": {},
   "outputs": [
    {
     "data": {
      "text/plain": [
       "Pipeline(memory=None,\n",
       "     steps=[('pca', PCA(copy=True, iterated_power='auto', n_components=8, random_state=None,\n",
       "  svd_solver='auto', tol=0.0, whiten=False)), ('model', LinearRegression(copy_X=True, fit_intercept=True, n_jobs=None, normalize=True))])"
      ]
     },
     "execution_count": 260,
     "metadata": {},
     "output_type": "execute_result"
    }
   ],
   "source": [
    "pipe.fit(X_train,y_train)"
   ]
  },
  {
   "cell_type": "code",
   "execution_count": 261,
   "metadata": {},
   "outputs": [
    {
     "name": "stdout",
     "output_type": "stream",
     "text": [
      "49.06684906426913 0.5449125582217442\n"
     ]
    }
   ],
   "source": [
    "res = pipe.predict(X_test)\n",
    "mse = mean_squared_error(res,y_test) \n",
    "varience = explained_variance_score(y_test,res)\n",
    "print(mse,varience)"
   ]
  },
  {
   "cell_type": "markdown",
   "metadata": {},
   "source": [
    "## Нейронная сеть"
   ]
  },
  {
   "cell_type": "code",
   "execution_count": 262,
   "metadata": {},
   "outputs": [],
   "source": [
    "def small_model():\n",
    "    model = Sequential()\n",
    "    model.add(Dense(128, input_dim=13, kernel_initializer='normal', activation='relu'))\n",
    "    model.add(Dense(64, kernel_initializer='normal', activation='relu'))\n",
    "    model.add(Dense(1, kernel_initializer='normal'))\n",
    "    # Compile model\n",
    "    model.compile(loss='mean_squared_error', optimizer='rmsprop')\n",
    "    return model"
   ]
  },
  {
   "cell_type": "code",
   "execution_count": 266,
   "metadata": {},
   "outputs": [],
   "source": [
    "#neural_net = MLPRegressor((300,256,128),max_iter=3000,solver='lbfgs')\n",
    "neural_net = KerasRegressor(small_model,epochs=200, batch_size=100,verbose=0)\n",
    "model = neural_net\n",
    "pipe = Pipeline(steps=[('scaler',scaler),('model', model)])"
   ]
  },
  {
   "cell_type": "code",
   "execution_count": 267,
   "metadata": {},
   "outputs": [
    {
     "data": {
      "text/plain": [
       "Pipeline(memory=None,\n",
       "     steps=[('scaler', StandardScaler(copy=True, with_mean=True, with_std=True)), ('model', <keras.wrappers.scikit_learn.KerasRegressor object at 0x7f1153aad438>)])"
      ]
     },
     "execution_count": 267,
     "metadata": {},
     "output_type": "execute_result"
    }
   ],
   "source": [
    "pipe.fit(X_train,y_train)"
   ]
  },
  {
   "cell_type": "code",
   "execution_count": 268,
   "metadata": {},
   "outputs": [
    {
     "name": "stdout",
     "output_type": "stream",
     "text": [
      "11.46602036886529 0.8953564321331738\n"
     ]
    }
   ],
   "source": [
    "res = pipe.predict(X_test)\n",
    "mse = mean_squared_error(res,y_test) \n",
    "varience = explained_variance_score(y_test,res)\n",
    "print(mse,varience)"
   ]
  },
  {
   "cell_type": "markdown",
   "metadata": {},
   "source": [
    "## Графики"
   ]
  },
  {
   "cell_type": "markdown",
   "metadata": {},
   "source": [
    "##### Зависимость функции ошибки от количества эпох"
   ]
  },
  {
   "cell_type": "code",
   "execution_count": 195,
   "metadata": {},
   "outputs": [],
   "source": [
    "results = []\n",
    "for n_epoch in [1,5,10,20,50,100,200,500]:\n",
    "    model = KerasRegressor(small_model,epochs=n_epoch, batch_size=100,verbose=0)\n",
    "    pipe = Pipeline(steps=[('scaler',scaler),('model', model)])\n",
    "    pipe.fit(X_train,y_train)\n",
    "    res = pipe.predict(X_test)\n",
    "    error = mean_squared_error(res,y_test) \n",
    "    results.append(error)"
   ]
  },
  {
   "cell_type": "code",
   "execution_count": 196,
   "metadata": {},
   "outputs": [
    {
     "data": {
      "text/plain": [
       "[650.28465128045,\n",
       " 574.6339433320644,\n",
       " 331.5812186482498,\n",
       " 73.04634040888402,\n",
       " 18.72584323245349,\n",
       " 13.076219740165222,\n",
       " 11.365562128135426,\n",
       " 9.417674447245053]"
      ]
     },
     "execution_count": 196,
     "metadata": {},
     "output_type": "execute_result"
    }
   ],
   "source": [
    "results"
   ]
  },
  {
   "cell_type": "code",
   "execution_count": 197,
   "metadata": {},
   "outputs": [
    {
     "data": {
      "image/png": "[encoded data removed]",
      "text/plain": [
       "<matplotlib.figure.Figure at 0x7f116dc9a358>"
      ]
     },
     "metadata": {},
     "output_type": "display_data"
    }
   ],
   "source": [
    "x_ticks = [1,5,10,20,50,100,200,500]\n",
    "fig, ax = plt.subplots()\n",
    "plt.scatter(x_ticks,results)\n",
    "plt.plot(x_ticks,results)\n",
    "ax.set_yscale('log')\n",
    "ax.set_xscale('log')\n",
    "ax.set_xticks(x_ticks)\n",
    "ax.set_xticklabels(x_ticks)\n",
    "ax.set_title('Зависимость функции ошибки от количества эпох')\n",
    "ax.set_xlabel(\"Количество эпох обучения\")\n",
    "ax.set_ylabel(\"Среднеквадратичное отклонение\")\n",
    "plt.show()"
   ]
  },
  {
   "cell_type": "markdown",
   "metadata": {},
   "source": [
    "##### Зависимость функции ошибки от размера скрытого слоя"
   ]
  },
  {
   "cell_type": "code",
   "execution_count": 157,
   "metadata": {},
   "outputs": [],
   "source": [
    "def variable_model():\n",
    "    model = Sequential()\n",
    "    model.add(Dense(64, input_dim=13, kernel_initializer='normal', activation='relu'))\n",
    "    for i in range(n_l-1):\n",
    "        model.add(Dense(64, kernel_initializer='normal', activation='relu'))\n",
    "    model.add(Dense(1, kernel_initializer='normal'))\n",
    "    # Compile model\n",
    "    model.compile(loss='mean_squared_error', optimizer='rmsprop')\n",
    "    return model\n",
    "results1 = []\n",
    "n_layers = [1,2,3,5,10]\n",
    "for n_l in n_layers:\n",
    "    model = KerasRegressor(variable_model,epochs=200, batch_size=100,verbose=0)\n",
    "    pipe = Pipeline(steps=[('scaler',scaler),('model', model)])\n",
    "    pipe.fit(X_train,y_train)\n",
    "    res = pipe.predict(X_test)\n",
    "    error = mean_squared_error(res,y_test) \n",
    "    results1.append(error)    "
   ]
  },
  {
   "cell_type": "code",
   "execution_count": 159,
   "metadata": {},
   "outputs": [
    {
     "data": {
      "image/png": "[encoded data removed]",
      "text/plain": [
       "<matplotlib.figure.Figure at 0x7f1177341fd0>"
      ]
     },
     "metadata": {},
     "output_type": "display_data"
    }
   ],
   "source": [
    "fig, ax = plt.subplots()\n",
    "ax.set_ylim(0,30)\n",
    "ax.set_xlabel(\"Количество скрытых слоев\")\n",
    "ax.set_ylabel(\"Среднеквадратичное отклонение\")\n",
    "ax.set_title('Зависимость функции ошибки от размера скрытого слоя')\n",
    "ax.set_xticks(n_layers)\n",
    "plt.scatter(n_layers,results1)\n",
    "plt.plot(n_layers,results1)\n",
    "plt.show()"
   ]
  },
  {
   "cell_type": "code",
   "execution_count": 160,
   "metadata": {},
   "outputs": [
    {
     "data": {
      "text/plain": [
       "[19.450776368098854,\n",
       " 11.006731611087497,\n",
       " 10.566985333572585,\n",
       " 12.06894282865322,\n",
       " 22.330146916488296]"
      ]
     },
     "execution_count": 160,
     "metadata": {},
     "output_type": "execute_result"
    }
   ],
   "source": [
    "results1"
   ]
  },
  {
   "cell_type": "code",
   "execution_count": 164,
   "metadata": {},
   "outputs": [
    {
     "data": {
      "text/plain": [
       "array([0, 1, 2, 3, 4, 5, 6, 7, 8, 9])"
      ]
     },
     "execution_count": 164,
     "metadata": {},
     "output_type": "execute_result"
    }
   ],
   "source": [
    "np.arange(10)"
   ]
  },
  {
   "cell_type": "markdown",
   "metadata": {},
   "source": [
    "##### Зависимость функции ошибки от размера обучающей выборки"
   ]
  },
  {
   "cell_type": "code",
   "execution_count": 230,
   "metadata": {},
   "outputs": [],
   "source": [
    "percents_of_data = [0.1,0.2,0.3,0.5,0.8,1.0]\n",
    "results3 = []\n",
    "for pod in percents_of_data:\n",
    "    #sample = np.random.choice(np.arange(len(X_train)),size=int(len(X_train)*pod),replace=False)\n",
    "    model = KerasRegressor(small_model,epochs=100, batch_size=100,verbose=0)\n",
    "    pipe = Pipeline(steps=[('scaler',scaler),('model', model)])\n",
    "    pipe.fit(X_train[:int(len(X_train)*pod)],y_train[:int(len(X_train)*pod)])\n",
    "    res = pipe.predict(X_test)\n",
    "    error = mean_squared_error(res,y_test) \n",
    "    results3.append(error)"
   ]
  },
  {
   "cell_type": "code",
   "execution_count": 231,
   "metadata": {},
   "outputs": [
    {
     "data": {
      "text/plain": [
       "[55.347731795657374,\n",
       " 49.75628808023503,\n",
       " 24.320503874940183,\n",
       " 20.358289731852338,\n",
       " 19.298293449887584,\n",
       " 12.413809054611063]"
      ]
     },
     "execution_count": 231,
     "metadata": {},
     "output_type": "execute_result"
    }
   ],
   "source": [
    "results3"
   ]
  },
  {
   "cell_type": "code",
   "execution_count": 233,
   "metadata": {},
   "outputs": [
    {
     "data": {
      "image/png": "[encoded data removed]",
      "text/plain": [
       "<matplotlib.figure.Figure at 0x7f11698c0080>"
      ]
     },
     "metadata": {},
     "output_type": "display_data"
    }
   ],
   "source": [
    "fig, ax = plt.subplots()\n",
    "ax.set_ylim(0,60)\n",
    "ax.set_xlabel(\"Процент от полной train выборки\")\n",
    "ax.set_ylabel(\"Среднеквадратичное отклонение\")\n",
    "ax.set_title('Зависимость функции ошибки от размера скрытого слоя')\n",
    "ax.set_xticks(percents_of_data)\n",
    "plt.scatter(percents_of_data,results3)\n",
    "plt.plot(percents_of_data,results3)\n",
    "plt.show()"
   ]
  },
  {
   "cell_type": "markdown",
   "metadata": {},
   "source": [
    "## Их датасет"
   ]
  },
  {
   "cell_type": "code",
   "execution_count": 269,
   "metadata": {},
   "outputs": [],
   "source": [
    "X_train = loadmat('ECoG_X_train.mat')['X_train']\n",
    "y_train = loadmat('ECoG_Y_train.mat')['Y_train']\n",
    "X_test = loadmat('ECoG_X_test.mat')['X_hold_out']\n",
    "y_test = loadmat('ECoG_Y_test.mat')['Y_hold_out']\n",
    "X_train = np.array([i.flatten() for i in X_train])\n",
    "X_test = np.array([i.flatten() for i in X_test])"
   ]
  },
  {
   "cell_type": "markdown",
   "metadata": {},
   "source": [
    "## Линейная регрессия без pca"
   ]
  },
  {
   "cell_type": "code",
   "execution_count": 270,
   "metadata": {},
   "outputs": [],
   "source": [
    "model = linreg\n",
    "pipe = Pipeline(steps=[('model', model)])"
   ]
  },
  {
   "cell_type": "code",
   "execution_count": 271,
   "metadata": {},
   "outputs": [
    {
     "data": {
      "text/plain": [
       "Pipeline(memory=None,\n",
       "     steps=[('model', LinearRegression(copy_X=True, fit_intercept=True, n_jobs=None, normalize=True))])"
      ]
     },
     "execution_count": 271,
     "metadata": {},
     "output_type": "execute_result"
    }
   ],
   "source": [
    "pipe.fit(X_train,y_train)"
   ]
  },
  {
   "cell_type": "code",
   "execution_count": 272,
   "metadata": {},
   "outputs": [
    {
     "name": "stdout",
     "output_type": "stream",
     "text": [
      "1786.7787691924339 0.0703714702511365\n"
     ]
    }
   ],
   "source": [
    "res = pipe.predict(X_test)\n",
    "mse = mean_squared_error(res,y_test) \n",
    "varience = explained_variance_score(y_test,res)\n",
    "print(mse,varience)"
   ]
  },
  {
   "cell_type": "markdown",
   "metadata": {},
   "source": [
    "## Линейная регрессия c pca до 80 компонент"
   ]
  },
  {
   "cell_type": "code",
   "execution_count": 300,
   "metadata": {},
   "outputs": [],
   "source": [
    "model = linreg\n",
    "pca = PCA(n_components=80)\n",
    "pipe = Pipeline(steps=[('pca',pca),('model', model)])"
   ]
  },
  {
   "cell_type": "code",
   "execution_count": 301,
   "metadata": {},
   "outputs": [
    {
     "data": {
      "text/plain": [
       "Pipeline(memory=None,\n",
       "     steps=[('pca', PCA(copy=True, iterated_power='auto', n_components=80, random_state=None,\n",
       "  svd_solver='auto', tol=0.0, whiten=False)), ('model', LinearRegression(copy_X=True, fit_intercept=True, n_jobs=None, normalize=True))])"
      ]
     },
     "execution_count": 301,
     "metadata": {},
     "output_type": "execute_result"
    }
   ],
   "source": [
    "pipe.fit(X_train,y_train)"
   ]
  },
  {
   "cell_type": "code",
   "execution_count": 302,
   "metadata": {},
   "outputs": [
    {
     "name": "stdout",
     "output_type": "stream",
     "text": [
      "1634.8442967330448 0.1469866308767813\n"
     ]
    }
   ],
   "source": [
    "res = pipe.predict(X_test)\n",
    "mse = mean_squared_error(res,y_test) \n",
    "varience = explained_variance_score(y_test,res)\n",
    "print(mse,varience)"
   ]
  },
  {
   "cell_type": "markdown",
   "metadata": {},
   "source": [
    "## Нейронная сеть"
   ]
  },
  {
   "cell_type": "code",
   "execution_count": 330,
   "metadata": {},
   "outputs": [],
   "source": [
    "def big_model():\n",
    "    model = Sequential()\n",
    "    model.add(Dense(512, input_dim=864, kernel_initializer='normal', \n",
    "                    activation='relu',kernel_regularizer=keras.regularizers.l2(0.01)))\n",
    "    model.add(Dense(256, kernel_initializer='normal', activation='relu',\n",
    "                   kernel_regularizer=keras.regularizers.l2(0.01)))\n",
    "    model.add(Dense(3, kernel_initializer='normal'))\n",
    "    # Compile model\n",
    "    model.compile(loss='mean_squared_error', optimizer='rmsprop')\n",
    "    return model"
   ]
  },
  {
   "cell_type": "code",
   "execution_count": 331,
   "metadata": {},
   "outputs": [],
   "source": [
    "#neural_net = MLPRegressor((300,256,128),max_iter=1000)\n",
    "neural_net = KerasRegressor(big_model,epochs=100, batch_size=200,verbose=1)\n",
    "model = neural_net\n",
    "pipe = Pipeline(steps=[('scaler',scaler),('model', model)])"
   ]
  },
  {
   "cell_type": "code",
   "execution_count": 332,
   "metadata": {},
   "outputs": [
    {
     "name": "stdout",
     "output_type": "stream",
     "text": [
      "Epoch 1/100\n",
      "12801/12801 [==============================] - 4s 331us/step - loss: 12701.1628\n",
      "Epoch 2/100\n",
      "12801/12801 [==============================] - 0s 33us/step - loss: 3960.8069\n",
      "Epoch 3/100\n",
      "12801/12801 [==============================] - 0s 31us/step - loss: 3233.0403\n",
      "Epoch 4/100\n",
      "12801/12801 [==============================] - 0s 34us/step - loss: 2958.6897\n",
      "Epoch 5/100\n",
      "12801/12801 [==============================] - 0s 37us/step - loss: 2737.6512\n",
      "Epoch 6/100\n",
      "12801/12801 [==============================] - 0s 36us/step - loss: 2528.5923\n",
      "Epoch 7/100\n",
      "12801/12801 [==============================] - 0s 35us/step - loss: 2358.0925\n",
      "Epoch 8/100\n",
      "12801/12801 [==============================] - 0s 37us/step - loss: 2257.7193\n",
      "Epoch 9/100\n",
      "12801/12801 [==============================] - 0s 34us/step - loss: 2129.4090\n",
      "Epoch 10/100\n",
      "12801/12801 [==============================] - 0s 34us/step - loss: 2007.4577\n",
      "Epoch 11/100\n",
      "12801/12801 [==============================] - 0s 34us/step - loss: 1950.7625\n",
      "Epoch 12/100\n",
      "12801/12801 [==============================] - 0s 33us/step - loss: 1803.9648\n",
      "Epoch 13/100\n",
      "12801/12801 [==============================] - 0s 32us/step - loss: 1767.6966\n",
      "Epoch 14/100\n",
      "12801/12801 [==============================] - 0s 32us/step - loss: 1724.6080\n",
      "Epoch 15/100\n",
      "12801/12801 [==============================] - 0s 34us/step - loss: 1624.2938\n",
      "Epoch 16/100\n",
      "12801/12801 [==============================] - 0s 34us/step - loss: 1550.9263\n",
      "Epoch 17/100\n",
      "12801/12801 [==============================] - 0s 35us/step - loss: 1503.1986\n",
      "Epoch 18/100\n",
      "12801/12801 [==============================] - 0s 34us/step - loss: 1482.8178\n",
      "Epoch 19/100\n",
      "12801/12801 [==============================] - 0s 32us/step - loss: 1403.6815\n",
      "Epoch 20/100\n",
      "12801/12801 [==============================] - 0s 33us/step - loss: 1385.4477\n",
      "Epoch 21/100\n",
      "12801/12801 [==============================] - 0s 31us/step - loss: 1314.3989\n",
      "Epoch 22/100\n",
      "12801/12801 [==============================] - 0s 34us/step - loss: 1277.1615\n",
      "Epoch 23/100\n",
      "12801/12801 [==============================] - 0s 32us/step - loss: 1254.8213\n",
      "Epoch 24/100\n",
      "12801/12801 [==============================] - 0s 33us/step - loss: 1219.6111\n",
      "Epoch 25/100\n",
      "12801/12801 [==============================] - 0s 30us/step - loss: 1176.6594\n",
      "Epoch 26/100\n",
      "12801/12801 [==============================] - 0s 33us/step - loss: 1130.8866\n",
      "Epoch 27/100\n",
      "12801/12801 [==============================] - 0s 30us/step - loss: 1100.1929\n",
      "Epoch 28/100\n",
      "12801/12801 [==============================] - 0s 32us/step - loss: 1059.7553\n",
      "Epoch 29/100\n",
      "12801/12801 [==============================] - 0s 31us/step - loss: 1054.8957\n",
      "Epoch 30/100\n",
      "12801/12801 [==============================] - 0s 32us/step - loss: 975.1912\n",
      "Epoch 31/100\n",
      "12801/12801 [==============================] - 0s 33us/step - loss: 965.3454\n",
      "Epoch 32/100\n",
      "12801/12801 [==============================] - 0s 30us/step - loss: 979.3861\n",
      "Epoch 33/100\n",
      "12801/12801 [==============================] - 0s 33us/step - loss: 957.8568\n",
      "Epoch 34/100\n",
      "12801/12801 [==============================] - 0s 30us/step - loss: 905.0792\n",
      "Epoch 35/100\n",
      "12801/12801 [==============================] - 0s 30us/step - loss: 877.9128\n",
      "Epoch 36/100\n",
      "12801/12801 [==============================] - 0s 33us/step - loss: 886.4072\n",
      "Epoch 37/100\n",
      "12801/12801 [==============================] - 0s 31us/step - loss: 822.2598\n",
      "Epoch 38/100\n",
      "12801/12801 [==============================] - 0s 32us/step - loss: 864.4631\n",
      "Epoch 39/100\n",
      "12801/12801 [==============================] - 0s 34us/step - loss: 837.7412\n",
      "Epoch 40/100\n",
      "12801/12801 [==============================] - 0s 33us/step - loss: 772.9614\n",
      "Epoch 41/100\n",
      "12801/12801 [==============================] - 0s 32us/step - loss: 780.7031\n",
      "Epoch 42/100\n",
      "12801/12801 [==============================] - 0s 32us/step - loss: 767.9867\n",
      "Epoch 43/100\n",
      "12801/12801 [==============================] - 0s 30us/step - loss: 749.4798\n",
      "Epoch 44/100\n",
      "12801/12801 [==============================] - 0s 30us/step - loss: 718.9754\n",
      "Epoch 45/100\n",
      "12801/12801 [==============================] - 0s 30us/step - loss: 724.0198\n",
      "Epoch 46/100\n",
      "12801/12801 [==============================] - 0s 30us/step - loss: 705.0321\n",
      "Epoch 47/100\n",
      "12801/12801 [==============================] - 0s 34us/step - loss: 713.1196\n",
      "Epoch 48/100\n",
      "12801/12801 [==============================] - 0s 30us/step - loss: 665.6988\n",
      "Epoch 49/100\n",
      "12801/12801 [==============================] - 0s 32us/step - loss: 662.4985\n",
      "Epoch 50/100\n",
      "12801/12801 [==============================] - 0s 30us/step - loss: 674.9598\n",
      "Epoch 51/100\n",
      "12801/12801 [==============================] - 0s 32us/step - loss: 629.4575\n",
      "Epoch 52/100\n",
      "12801/12801 [==============================] - 0s 32us/step - loss: 651.8946\n",
      "Epoch 53/100\n",
      "12801/12801 [==============================] - 0s 35us/step - loss: 619.8908\n",
      "Epoch 54/100\n",
      "12801/12801 [==============================] - 0s 34us/step - loss: 632.3105\n",
      "Epoch 55/100\n",
      "12801/12801 [==============================] - 0s 32us/step - loss: 607.8602\n",
      "Epoch 56/100\n",
      "12801/12801 [==============================] - 0s 33us/step - loss: 630.2617\n",
      "Epoch 57/100\n",
      "12801/12801 [==============================] - 0s 33us/step - loss: 593.1755\n",
      "Epoch 58/100\n",
      "12801/12801 [==============================] - 0s 32us/step - loss: 583.4718\n",
      "Epoch 59/100\n",
      "12801/12801 [==============================] - 0s 34us/step - loss: 586.7789\n",
      "Epoch 60/100\n",
      "12801/12801 [==============================] - 0s 32us/step - loss: 569.5884\n",
      "Epoch 61/100\n",
      "12801/12801 [==============================] - 0s 34us/step - loss: 557.7951\n",
      "Epoch 62/100\n",
      "12801/12801 [==============================] - 0s 32us/step - loss: 550.3663\n",
      "Epoch 63/100\n",
      "12801/12801 [==============================] - 0s 31us/step - loss: 572.5576\n",
      "Epoch 64/100\n",
      "12801/12801 [==============================] - 0s 32us/step - loss: 544.6339\n",
      "Epoch 65/100\n",
      "12801/12801 [==============================] - 0s 32us/step - loss: 541.1602\n",
      "Epoch 66/100\n",
      "12801/12801 [==============================] - 0s 32us/step - loss: 530.0865\n",
      "Epoch 67/100\n",
      "12801/12801 [==============================] - 0s 33us/step - loss: 542.1130\n",
      "Epoch 68/100\n",
      "12801/12801 [==============================] - 0s 33us/step - loss: 526.9784\n",
      "Epoch 69/100\n",
      "12801/12801 [==============================] - 0s 32us/step - loss: 509.3229\n",
      "Epoch 70/100\n",
      "12801/12801 [==============================] - 0s 32us/step - loss: 505.7693\n",
      "Epoch 71/100\n",
      "12801/12801 [==============================] - 0s 32us/step - loss: 505.0660\n",
      "Epoch 72/100\n",
      "12801/12801 [==============================] - 0s 32us/step - loss: 508.7353\n",
      "Epoch 73/100\n",
      "12801/12801 [==============================] - 0s 32us/step - loss: 479.7005\n",
      "Epoch 74/100\n",
      "12801/12801 [==============================] - 0s 32us/step - loss: 487.2193\n",
      "Epoch 75/100\n",
      "12801/12801 [==============================] - 0s 32us/step - loss: 478.0526\n",
      "Epoch 76/100\n",
      "12801/12801 [==============================] - 0s 32us/step - loss: 468.5735\n",
      "Epoch 77/100\n",
      "12801/12801 [==============================] - 0s 32us/step - loss: 472.8295\n",
      "Epoch 78/100\n",
      "12801/12801 [==============================] - 0s 31us/step - loss: 455.2141\n",
      "Epoch 79/100\n",
      "12801/12801 [==============================] - 0s 31us/step - loss: 461.7100\n",
      "Epoch 80/100\n",
      "12801/12801 [==============================] - 0s 32us/step - loss: 460.0749\n",
      "Epoch 81/100\n",
      "12801/12801 [==============================] - 0s 32us/step - loss: 467.6380\n",
      "Epoch 82/100\n",
      "12801/12801 [==============================] - 0s 31us/step - loss: 440.6787\n",
      "Epoch 83/100\n",
      "12801/12801 [==============================] - 0s 32us/step - loss: 441.2941\n",
      "Epoch 84/100\n",
      "12801/12801 [==============================] - 0s 31us/step - loss: 448.8616\n",
      "Epoch 85/100\n",
      "12801/12801 [==============================] - 0s 31us/step - loss: 449.6032\n",
      "Epoch 86/100\n",
      "12801/12801 [==============================] - 0s 31us/step - loss: 471.3581\n",
      "Epoch 87/100\n",
      "12801/12801 [==============================] - 0s 31us/step - loss: 406.4514\n",
      "Epoch 88/100\n",
      "12801/12801 [==============================] - 0s 31us/step - loss: 410.9549\n",
      "Epoch 89/100\n",
      "12801/12801 [==============================] - 0s 31us/step - loss: 421.9544\n",
      "Epoch 90/100\n",
      "12801/12801 [==============================] - 0s 31us/step - loss: 402.8726\n",
      "Epoch 91/100\n",
      "12801/12801 [==============================] - 0s 31us/step - loss: 405.8143\n",
      "Epoch 92/100\n",
      "12801/12801 [==============================] - 0s 30us/step - loss: 409.3296\n",
      "Epoch 93/100\n",
      "12801/12801 [==============================] - 0s 30us/step - loss: 391.2359\n",
      "Epoch 94/100\n",
      "12801/12801 [==============================] - 0s 31us/step - loss: 412.6155\n",
      "Epoch 95/100\n",
      "12801/12801 [==============================] - 0s 30us/step - loss: 387.4129\n",
      "Epoch 96/100\n",
      "12801/12801 [==============================] - 0s 31us/step - loss: 391.8860\n",
      "Epoch 97/100\n",
      "12801/12801 [==============================] - 0s 31us/step - loss: 383.8738\n",
      "Epoch 98/100\n",
      "12801/12801 [==============================] - 0s 31us/step - loss: 392.0491\n",
      "Epoch 99/100\n",
      "12801/12801 [==============================] - 0s 31us/step - loss: 383.2344\n",
      "Epoch 100/100\n",
      "12801/12801 [==============================] - 0s 31us/step - loss: 375.1395\n"
     ]
    },
    {
     "data": {
      "text/plain": [
       "Pipeline(memory=None,\n",
       "     steps=[('scaler', StandardScaler(copy=True, with_mean=True, with_std=True)), ('model', <keras.wrappers.scikit_learn.KerasRegressor object at 0x7f112da7ea58>)])"
      ]
     },
     "execution_count": 332,
     "metadata": {},
     "output_type": "execute_result"
    }
   ],
   "source": [
    "pipe.fit(X_train,y_train)"
   ]
  },
  {
   "cell_type": "code",
   "execution_count": 333,
   "metadata": {},
   "outputs": [
    {
     "name": "stdout",
     "output_type": "stream",
     "text": [
      "6087/6087 [==============================] - 2s 302us/step\n",
      "2302.8095891680064 -0.2123120423053022\n"
     ]
    }
   ],
   "source": [
    "res = pipe.predict(X_test)\n",
    "mse = mean_squared_error(res,y_test) \n",
    "varience = explained_variance_score(y_test,res)\n",
    "print(mse,varience)"
   ]
  },
  {
   "cell_type": "markdown",
   "metadata": {},
   "source": [
    "#### тут просто синус, красивая картинка с предсказания нейронки"
   ]
  },
  {
   "cell_type": "code",
   "execution_count": 286,
   "metadata": {},
   "outputs": [],
   "source": [
    "X_simple = np.arange(0,12.56,0.01)\n",
    "y_simple = np.array([np.sin(i)-np.random.rand(1)/3 for i in X_simple])\n",
    "Xs_train, Xs_test, ys_train, ys_test = train_test_split(X_simple, y_simple, test_size=0.25, random_state=228)"
   ]
  },
  {
   "cell_type": "code",
   "execution_count": 281,
   "metadata": {
    "scrolled": true
   },
   "outputs": [
    {
     "data": {
      "application/javascript": [
       "/* Put everything inside the global mpl namespace */\n",
       "window.mpl = {};\n",
       "\n",
       "\n",
       "mpl.get_websocket_type = function() {\n",
       "    if (typeof(WebSocket) !== 'undefined') {\n",
       "        return WebSocket;\n",
       "    } else if (typeof(MozWebSocket) !== 'undefined') {\n",
       "        return MozWebSocket;\n",
       "    } else {\n",
       "        alert('Your browser does not have WebSocket support.' +\n",
       "              'Please try Chrome, Safari or Firefox ≥ 6. ' +\n",
       "              'Firefox 4 and 5 are also supported but you ' +\n",
       "              'have to enable WebSockets in about:config.');\n",
       "    };\n",
       "}\n",
       "\n",
       "mpl.figure = function(figure_id, websocket, ondownload, parent_element) {\n",
       "    this.id = figure_id;\n",
       "\n",
       "    this.ws = websocket;\n",
       "\n",
       "    this.supports_binary = (this.ws.binaryType != undefined);\n",
       "\n",
       "    if (!this.supports_binary) {\n",
       "        var warnings = document.getElementById(\"mpl-warnings\");\n",
       "        if (warnings) {\n",
       "            warnings.style.display = 'block';\n",
       "            warnings.textContent = (\n",
       "                \"This browser does not support binary websocket messages. \" +\n",
       "                    \"Performance may be slow.\");\n",
       "        }\n",
       "    }\n",
       "\n",
       "    this.imageObj = new Image();\n",
       "\n",
       "    this.context = undefined;\n",
       "    this.message = undefined;\n",
       "    this.canvas = undefined;\n",
       "    this.rubberband_canvas = undefined;\n",
       "    this.rubberband_context = undefined;\n",
       "    this.format_dropdown = undefined;\n",
       "\n",
       "    this.image_mode = 'full';\n",
       "\n",
       "    this.root = $('<div/>');\n",
       "    this._root_extra_style(this.root)\n",
       "    this.root.attr('style', 'display: inline-block');\n",
       "\n",
       "    $(parent_element).append(this.root);\n",
       "\n",
       "    this._init_header(this);\n",
       "    this._init_canvas(this);\n",
       "    this._init_toolbar(this);\n",
       "\n",
       "    var fig = this;\n",
       "\n",
       "    this.waiting = false;\n",
       "\n",
       "    this.ws.onopen =  function () {\n",
       "            fig.send_message(\"supports_binary\", {value: fig.supports_binary});\n",
       "            fig.send_message(\"send_image_mode\", {});\n",
       "            if (mpl.ratio != 1) {\n",
       "                fig.send_message(\"set_dpi_ratio\", {'dpi_ratio': mpl.ratio});\n",
       "            }\n",
       "            fig.send_message(\"refresh\", {});\n",
       "        }\n",
       "\n",
       "    this.imageObj.onload = function() {\n",
       "            if (fig.image_mode == 'full') {\n",
       "                // Full images could contain transparency (where diff images\n",
       "                // almost always do), so we need to clear the canvas so that\n",
       "                // there is no ghosting.\n",
       "                fig.context.clearRect(0, 0, fig.canvas.width, fig.canvas.height);\n",
       "            }\n",
       "            fig.context.drawImage(fig.imageObj, 0, 0);\n",
       "        };\n",
       "\n",
       "    this.imageObj.onunload = function() {\n",
       "        fig.ws.close();\n",
       "    }\n",
       "\n",
       "    this.ws.onmessage = this._make_on_message_function(this);\n",
       "\n",
       "    this.ondownload = ondownload;\n",
       "}\n",
       "\n",
       "mpl.figure.prototype._init_header = function() {\n",
       "    var titlebar = $(\n",
       "        '<div class=\"ui-dialog-titlebar ui-widget-header ui-corner-all ' +\n",
       "        'ui-helper-clearfix\"/>');\n",
       "    var titletext = $(\n",
       "        '<div class=\"ui-dialog-title\" style=\"width: 100%; ' +\n",
       "        'text-align: center; padding: 3px;\"/>');\n",
       "    titlebar.append(titletext)\n",
       "    this.root.append(titlebar);\n",
       "    this.header = titletext[0];\n",
       "}\n",
       "\n",
       "\n",
       "\n",
       "mpl.figure.prototype._canvas_extra_style = function(canvas_div) {\n",
       "\n",
       "}\n",
       "\n",
       "\n",
       "mpl.figure.prototype._root_extra_style = function(canvas_div) {\n",
       "\n",
       "}\n",
       "\n",
       "mpl.figure.prototype._init_canvas = function() {\n",
       "    var fig = this;\n",
       "\n",
       "    var canvas_div = $('<div/>');\n",
       "\n",
       "    canvas_div.attr('style', 'position: relative; clear: both; outline: 0');\n",
       "\n",
       "    function canvas_keyboard_event(event) {\n",
       "        return fig.key_event(event, event['data']);\n",
       "    }\n",
       "\n",
       "    canvas_div.keydown('key_press', canvas_keyboard_event);\n",
       "    canvas_div.keyup('key_release', canvas_keyboard_event);\n",
       "    this.canvas_div = canvas_div\n",
       "    this._canvas_extra_style(canvas_div)\n",
       "    this.root.append(canvas_div);\n",
       "\n",
       "    var canvas = $('<canvas/>');\n",
       "    canvas.addClass('mpl-canvas');\n",
       "    canvas.attr('style', \"left: 0; top: 0; z-index: 0; outline: 0\")\n",
       "\n",
       "    this.canvas = canvas[0];\n",
       "    this.context = canvas[0].getContext(\"2d\");\n",
       "\n",
       "    var backingStore = this.context.backingStorePixelRatio ||\n",
       "\tthis.context.webkitBackingStorePixelRatio ||\n",
       "\tthis.context.mozBackingStorePixelRatio ||\n",
       "\tthis.context.msBackingStorePixelRatio ||\n",
       "\tthis.context.oBackingStorePixelRatio ||\n",
       "\tthis.context.backingStorePixelRatio || 1;\n",
       "\n",
       "    mpl.ratio = (window.devicePixelRatio || 1) / backingStore;\n",
       "\n",
       "    var rubberband = $('<canvas/>');\n",
       "    rubberband.attr('style', \"position: absolute; left: 0; top: 0; z-index: 1;\")\n",
       "\n",
       "    var pass_mouse_events = true;\n",
       "\n",
       "    canvas_div.resizable({\n",
       "        start: function(event, ui) {\n",
       "            pass_mouse_events = false;\n",
       "        },\n",
       "        resize: function(event, ui) {\n",
       "            fig.request_resize(ui.size.width, ui.size.height);\n",
       "        },\n",
       "        stop: function(event, ui) {\n",
       "            pass_mouse_events = true;\n",
       "            fig.request_resize(ui.size.width, ui.size.height);\n",
       "        },\n",
       "    });\n",
       "\n",
       "    function mouse_event_fn(event) {\n",
       "        if (pass_mouse_events)\n",
       "            return fig.mouse_event(event, event['data']);\n",
       "    }\n",
       "\n",
       "    rubberband.mousedown('button_press', mouse_event_fn);\n",
       "    rubberband.mouseup('button_release', mouse_event_fn);\n",
       "    // Throttle sequential mouse events to 1 every 20ms.\n",
       "    rubberband.mousemove('motion_notify', mouse_event_fn);\n",
       "\n",
       "    rubberband.mouseenter('figure_enter', mouse_event_fn);\n",
       "    rubberband.mouseleave('figure_leave', mouse_event_fn);\n",
       "\n",
       "    canvas_div.on(\"wheel\", function (event) {\n",
       "        event = event.originalEvent;\n",
       "        event['data'] = 'scroll'\n",
       "        if (event.deltaY < 0) {\n",
       "            event.step = 1;\n",
       "        } else {\n",
       "            event.step = -1;\n",
       "        }\n",
       "        mouse_event_fn(event);\n",
       "    });\n",
       "\n",
       "    canvas_div.append(canvas);\n",
       "    canvas_div.append(rubberband);\n",
       "\n",
       "    this.rubberband = rubberband;\n",
       "    this.rubberband_canvas = rubberband[0];\n",
       "    this.rubberband_context = rubberband[0].getContext(\"2d\");\n",
       "    this.rubberband_context.strokeStyle = \"#000000\";\n",
       "\n",
       "    this._resize_canvas = function(width, height) {\n",
       "        // Keep the size of the canvas, canvas container, and rubber band\n",
       "        // canvas in synch.\n",
       "        canvas_div.css('width', width)\n",
       "        canvas_div.css('height', height)\n",
       "\n",
       "        canvas.attr('width', width * mpl.ratio);\n",
       "        canvas.attr('height', height * mpl.ratio);\n",
       "        canvas.attr('style', 'width: ' + width + 'px; height: ' + height + 'px;');\n",
       "\n",
       "        rubberband.attr('width', width);\n",
       "        rubberband.attr('height', height);\n",
       "    }\n",
       "\n",
       "    // Set the figure to an initial 600x600px, this will subsequently be updated\n",
       "    // upon first draw.\n",
       "    this._resize_canvas(600, 600);\n",
       "\n",
       "    // Disable right mouse context menu.\n",
       "    $(this.rubberband_canvas).bind(\"contextmenu\",function(e){\n",
       "        return false;\n",
       "    });\n",
       "\n",
       "    function set_focus () {\n",
       "        canvas.focus();\n",
       "        canvas_div.focus();\n",
       "    }\n",
       "\n",
       "    window.setTimeout(set_focus, 100);\n",
       "}\n",
       "\n",
       "mpl.figure.prototype._init_toolbar = function() {\n",
       "    var fig = this;\n",
       "\n",
       "    var nav_element = $('<div/>')\n",
       "    nav_element.attr('style', 'width: 100%');\n",
       "    this.root.append(nav_element);\n",
       "\n",
       "    // Define a callback function for later on.\n",
       "    function toolbar_event(event) {\n",
       "        return fig.toolbar_button_onclick(event['data']);\n",
       "    }\n",
       "    function toolbar_mouse_event(event) {\n",
       "        return fig.toolbar_button_onmouseover(event['data']);\n",
       "    }\n",
       "\n",
       "    for(var toolbar_ind in mpl.toolbar_items) {\n",
       "        var name = mpl.toolbar_items[toolbar_ind][0];\n",
       "        var tooltip = mpl.toolbar_items[toolbar_ind][1];\n",
       "        var image = mpl.toolbar_items[toolbar_ind][2];\n",
       "        var method_name = mpl.toolbar_items[toolbar_ind][3];\n",
       "\n",
       "        if (!name) {\n",
       "            // put a spacer in here.\n",
       "            continue;\n",
       "        }\n",
       "        var button = $('<button/>');\n",
       "        button.addClass('ui-button ui-widget ui-state-default ui-corner-all ' +\n",
       "                        'ui-button-icon-only');\n",
       "        button.attr('role', 'button');\n",
       "        button.attr('aria-disabled', 'false');\n",
       "        button.click(method_name, toolbar_event);\n",
       "        button.mouseover(tooltip, toolbar_mouse_event);\n",
       "\n",
       "        var icon_img = $('<span/>');\n",
       "        icon_img.addClass('ui-button-icon-primary ui-icon');\n",
       "        icon_img.addClass(image);\n",
       "        icon_img.addClass('ui-corner-all');\n",
       "\n",
       "        var tooltip_span = $('<span/>');\n",
       "        tooltip_span.addClass('ui-button-text');\n",
       "        tooltip_span.html(tooltip);\n",
       "\n",
       "        button.append(icon_img);\n",
       "        button.append(tooltip_span);\n",
       "\n",
       "        nav_element.append(button);\n",
       "    }\n",
       "\n",
       "    var fmt_picker_span = $('<span/>');\n",
       "\n",
       "    var fmt_picker = $('<select/>');\n",
       "    fmt_picker.addClass('mpl-toolbar-option ui-widget ui-widget-content');\n",
       "    fmt_picker_span.append(fmt_picker);\n",
       "    nav_element.append(fmt_picker_span);\n",
       "    this.format_dropdown = fmt_picker[0];\n",
       "\n",
       "    for (var ind in mpl.extensions) {\n",
       "        var fmt = mpl.extensions[ind];\n",
       "        var option = $(\n",
       "            '<option/>', {selected: fmt === mpl.default_extension}).html(fmt);\n",
       "        fmt_picker.append(option)\n",
       "    }\n",
       "\n",
       "    // Add hover states to the ui-buttons\n",
       "    $( \".ui-button\" ).hover(\n",
       "        function() { $(this).addClass(\"ui-state-hover\");},\n",
       "        function() { $(this).removeClass(\"ui-state-hover\");}\n",
       "    );\n",
       "\n",
       "    var status_bar = $('<span class=\"mpl-message\"/>');\n",
       "    nav_element.append(status_bar);\n",
       "    this.message = status_bar[0];\n",
       "}\n",
       "\n",
       "mpl.figure.prototype.request_resize = function(x_pixels, y_pixels) {\n",
       "    // Request matplotlib to resize the figure. Matplotlib will then trigger a resize in the client,\n",
       "    // which will in turn request a refresh of the image.\n",
       "    this.send_message('resize', {'width': x_pixels, 'height': y_pixels});\n",
       "}\n",
       "\n",
       "mpl.figure.prototype.send_message = function(type, properties) {\n",
       "    properties['type'] = type;\n",
       "    properties['figure_id'] = this.id;\n",
       "    this.ws.send(JSON.stringify(properties));\n",
       "}\n",
       "\n",
       "mpl.figure.prototype.send_draw_message = function() {\n",
       "    if (!this.waiting) {\n",
       "        this.waiting = true;\n",
       "        this.ws.send(JSON.stringify({type: \"draw\", figure_id: this.id}));\n",
       "    }\n",
       "}\n",
       "\n",
       "\n",
       "mpl.figure.prototype.handle_save = function(fig, msg) {\n",
       "    var format_dropdown = fig.format_dropdown;\n",
       "    var format = format_dropdown.options[format_dropdown.selectedIndex].value;\n",
       "    fig.ondownload(fig, format);\n",
       "}\n",
       "\n",
       "\n",
       "mpl.figure.prototype.handle_resize = function(fig, msg) {\n",
       "    var size = msg['size'];\n",
       "    if (size[0] != fig.canvas.width || size[1] != fig.canvas.height) {\n",
       "        fig._resize_canvas(size[0], size[1]);\n",
       "        fig.send_message(\"refresh\", {});\n",
       "    };\n",
       "}\n",
       "\n",
       "mpl.figure.prototype.handle_rubberband = function(fig, msg) {\n",
       "    var x0 = msg['x0'] / mpl.ratio;\n",
       "    var y0 = (fig.canvas.height - msg['y0']) / mpl.ratio;\n",
       "    var x1 = msg['x1'] / mpl.ratio;\n",
       "    var y1 = (fig.canvas.height - msg['y1']) / mpl.ratio;\n",
       "    x0 = Math.floor(x0) + 0.5;\n",
       "    y0 = Math.floor(y0) + 0.5;\n",
       "    x1 = Math.floor(x1) + 0.5;\n",
       "    y1 = Math.floor(y1) + 0.5;\n",
       "    var min_x = Math.min(x0, x1);\n",
       "    var min_y = Math.min(y0, y1);\n",
       "    var width = Math.abs(x1 - x0);\n",
       "    var height = Math.abs(y1 - y0);\n",
       "\n",
       "    fig.rubberband_context.clearRect(\n",
       "        0, 0, fig.canvas.width, fig.canvas.height);\n",
       "\n",
       "    fig.rubberband_context.strokeRect(min_x, min_y, width, height);\n",
       "}\n",
       "\n",
       "mpl.figure.prototype.handle_figure_label = function(fig, msg) {\n",
       "    // Updates the figure title.\n",
       "    fig.header.textContent = msg['label'];\n",
       "}\n",
       "\n",
       "mpl.figure.prototype.handle_cursor = function(fig, msg) {\n",
       "    var cursor = msg['cursor'];\n",
       "    switch(cursor)\n",
       "    {\n",
       "    case 0:\n",
       "        cursor = 'pointer';\n",
       "        break;\n",
       "    case 1:\n",
       "        cursor = 'default';\n",
       "        break;\n",
       "    case 2:\n",
       "        cursor = 'crosshair';\n",
       "        break;\n",
       "    case 3:\n",
       "        cursor = 'move';\n",
       "        break;\n",
       "    }\n",
       "    fig.rubberband_canvas.style.cursor = cursor;\n",
       "}\n",
       "\n",
       "mpl.figure.prototype.handle_message = function(fig, msg) {\n",
       "    fig.message.textContent = msg['message'];\n",
       "}\n",
       "\n",
       "mpl.figure.prototype.handle_draw = function(fig, msg) {\n",
       "    // Request the server to send over a new figure.\n",
       "    fig.send_draw_message();\n",
       "}\n",
       "\n",
       "mpl.figure.prototype.handle_image_mode = function(fig, msg) {\n",
       "    fig.image_mode = msg['mode'];\n",
       "}\n",
       "\n",
       "mpl.figure.prototype.updated_canvas_event = function() {\n",
       "    // Called whenever the canvas gets updated.\n",
       "    this.send_message(\"ack\", {});\n",
       "}\n",
       "\n",
       "// A function to construct a web socket function for onmessage handling.\n",
       "// Called in the figure constructor.\n",
       "mpl.figure.prototype._make_on_message_function = function(fig) {\n",
       "    return function socket_on_message(evt) {\n",
       "        if (evt.data instanceof Blob) {\n",
       "            /* FIXME: We get \"Resource interpreted as Image but\n",
       "             * transferred with MIME type text/plain:\" errors on\n",
       "             * Chrome.  But how to set the MIME type?  It doesn't seem\n",
       "             * to be part of the websocket stream */\n",
       "            evt.data.type = \"image/png\";\n",
       "\n",
       "            /* Free the memory for the previous frames */\n",
       "            if (fig.imageObj.src) {\n",
       "                (window.URL || window.webkitURL).revokeObjectURL(\n",
       "                    fig.imageObj.src);\n",
       "            }\n",
       "\n",
       "            fig.imageObj.src = (window.URL || window.webkitURL).createObjectURL(\n",
       "                evt.data);\n",
       "            fig.updated_canvas_event();\n",
       "            fig.waiting = false;\n",
       "            return;\n",
       "        }\n",
       "        else if (typeof evt.data === 'string' && evt.data.slice(0, 21) == \"data:image/png;base64\") {\n",
       "            fig.imageObj.src = evt.data;\n",
       "            fig.updated_canvas_event();\n",
       "            fig.waiting = false;\n",
       "            return;\n",
       "        }\n",
       "\n",
       "        var msg = JSON.parse(evt.data);\n",
       "        var msg_type = msg['type'];\n",
       "\n",
       "        // Call the  \"handle_{type}\" callback, which takes\n",
       "        // the figure and JSON message as its only arguments.\n",
       "        try {\n",
       "            var callback = fig[\"handle_\" + msg_type];\n",
       "        } catch (e) {\n",
       "            console.log(\"No handler for the '\" + msg_type + \"' message type: \", msg);\n",
       "            return;\n",
       "        }\n",
       "\n",
       "        if (callback) {\n",
       "            try {\n",
       "                // console.log(\"Handling '\" + msg_type + \"' message: \", msg);\n",
       "                callback(fig, msg);\n",
       "            } catch (e) {\n",
       "                console.log(\"Exception inside the 'handler_\" + msg_type + \"' callback:\", e, e.stack, msg);\n",
       "            }\n",
       "        }\n",
       "    };\n",
       "}\n",
       "\n",
       "// from http://stackoverflow.com/questions/1114465/getting-mouse-location-in-canvas\n",
       "mpl.findpos = function(e) {\n",
       "    //this section is from http://www.quirksmode.org/js/events_properties.html\n",
       "    var targ;\n",
       "    if (!e)\n",
       "        e = window.event;\n",
       "    if (e.target)\n",
       "        targ = e.target;\n",
       "    else if (e.srcElement)\n",
       "        targ = e.srcElement;\n",
       "    if (targ.nodeType == 3) // defeat Safari bug\n",
       "        targ = targ.parentNode;\n",
       "\n",
       "    // jQuery normalizes the pageX and pageY\n",
       "    // pageX,Y are the mouse positions relative to the document\n",
       "    // offset() returns the position of the element relative to the document\n",
       "    var x = e.pageX - $(targ).offset().left;\n",
       "    var y = e.pageY - $(targ).offset().top;\n",
       "\n",
       "    return {\"x\": x, \"y\": y};\n",
       "};\n",
       "\n",
       "/*\n",
       " * return a copy of an object with only non-object keys\n",
       " * we need this to avoid circular references\n",
       " * http://stackoverflow.com/a/24161582/3208463\n",
       " */\n",
       "function simpleKeys (original) {\n",
       "  return Object.keys(original).reduce(function (obj, key) {\n",
       "    if (typeof original[key] !== 'object')\n",
       "        obj[key] = original[key]\n",
       "    return obj;\n",
       "  }, {});\n",
       "}\n",
       "\n",
       "mpl.figure.prototype.mouse_event = function(event, name) {\n",
       "    var canvas_pos = mpl.findpos(event)\n",
       "\n",
       "    if (name === 'button_press')\n",
       "    {\n",
       "        this.canvas.focus();\n",
       "        this.canvas_div.focus();\n",
       "    }\n",
       "\n",
       "    var x = canvas_pos.x * mpl.ratio;\n",
       "    var y = canvas_pos.y * mpl.ratio;\n",
       "\n",
       "    this.send_message(name, {x: x, y: y, button: event.button,\n",
       "                             step: event.step,\n",
       "                             guiEvent: simpleKeys(event)});\n",
       "\n",
       "    /* This prevents the web browser from automatically changing to\n",
       "     * the text insertion cursor when the button is pressed.  We want\n",
       "     * to control all of the cursor setting manually through the\n",
       "     * 'cursor' event from matplotlib */\n",
       "    event.preventDefault();\n",
       "    return false;\n",
       "}\n",
       "\n",
       "mpl.figure.prototype._key_event_extra = function(event, name) {\n",
       "    // Handle any extra behaviour associated with a key event\n",
       "}\n",
       "\n",
       "mpl.figure.prototype.key_event = function(event, name) {\n",
       "\n",
       "    // Prevent repeat events\n",
       "    if (name == 'key_press')\n",
       "    {\n",
       "        if (event.which === this._key)\n",
       "            return;\n",
       "        else\n",
       "            this._key = event.which;\n",
       "    }\n",
       "    if (name == 'key_release')\n",
       "        this._key = null;\n",
       "\n",
       "    var value = '';\n",
       "    if (event.ctrlKey && event.which != 17)\n",
       "        value += \"ctrl+\";\n",
       "    if (event.altKey && event.which != 18)\n",
       "        value += \"alt+\";\n",
       "    if (event.shiftKey && event.which != 16)\n",
       "        value += \"shift+\";\n",
       "\n",
       "    value += 'k';\n",
       "    value += event.which.toString();\n",
       "\n",
       "    this._key_event_extra(event, name);\n",
       "\n",
       "    this.send_message(name, {key: value,\n",
       "                             guiEvent: simpleKeys(event)});\n",
       "    return false;\n",
       "}\n",
       "\n",
       "mpl.figure.prototype.toolbar_button_onclick = function(name) {\n",
       "    if (name == 'download') {\n",
       "        this.handle_save(this, null);\n",
       "    } else {\n",
       "        this.send_message(\"toolbar_button\", {name: name});\n",
       "    }\n",
       "};\n",
       "\n",
       "mpl.figure.prototype.toolbar_button_onmouseover = function(tooltip) {\n",
       "    this.message.textContent = tooltip;\n",
       "};\n",
       "mpl.toolbar_items = [[\"Home\", \"Reset original view\", \"fa fa-home icon-home\", \"home\"], [\"Back\", \"Back to  previous view\", \"fa fa-arrow-left icon-arrow-left\", \"back\"], [\"Forward\", \"Forward to next view\", \"fa fa-arrow-right icon-arrow-right\", \"forward\"], [\"\", \"\", \"\", \"\"], [\"Pan\", \"Pan axes with left mouse, zoom with right\", \"fa fa-arrows icon-move\", \"pan\"], [\"Zoom\", \"Zoom to rectangle\", \"fa fa-square-o icon-check-empty\", \"zoom\"], [\"\", \"\", \"\", \"\"], [\"Download\", \"Download plot\", \"fa fa-floppy-o icon-save\", \"download\"]];\n",
       "\n",
       "mpl.extensions = [\"eps\", \"jpeg\", \"pdf\", \"png\", \"ps\", \"raw\", \"svg\", \"tif\"];\n",
       "\n",
       "mpl.default_extension = \"png\";var comm_websocket_adapter = function(comm) {\n",
       "    // Create a \"websocket\"-like object which calls the given IPython comm\n",
       "    // object with the appropriate methods. Currently this is a non binary\n",
       "    // socket, so there is still some room for performance tuning.\n",
       "    var ws = {};\n",
       "\n",
       "    ws.close = function() {\n",
       "        comm.close()\n",
       "    };\n",
       "    ws.send = function(m) {\n",
       "        //console.log('sending', m);\n",
       "        comm.send(m);\n",
       "    };\n",
       "    // Register the callback with on_msg.\n",
       "    comm.on_msg(function(msg) {\n",
       "        //console.log('receiving', msg['content']['data'], msg);\n",
       "        // Pass the mpl event to the overriden (by mpl) onmessage function.\n",
       "        ws.onmessage(msg['content']['data'])\n",
       "    });\n",
       "    return ws;\n",
       "}\n",
       "\n",
       "mpl.mpl_figure_comm = function(comm, msg) {\n",
       "    // This is the function which gets called when the mpl process\n",
       "    // starts-up an IPython Comm through the \"matplotlib\" channel.\n",
       "\n",
       "    var id = msg.content.data.id;\n",
       "    // Get hold of the div created by the display call when the Comm\n",
       "    // socket was opened in Python.\n",
       "    var element = $(\"#\" + id);\n",
       "    var ws_proxy = comm_websocket_adapter(comm)\n",
       "\n",
       "    function ondownload(figure, format) {\n",
       "        window.open(figure.imageObj.src);\n",
       "    }\n",
       "\n",
       "    var fig = new mpl.figure(id, ws_proxy,\n",
       "                           ondownload,\n",
       "                           element.get(0));\n",
       "\n",
       "    // Call onopen now - mpl needs it, as it is assuming we've passed it a real\n",
       "    // web socket which is closed, not our websocket->open comm proxy.\n",
       "    ws_proxy.onopen();\n",
       "\n",
       "    fig.parent_element = element.get(0);\n",
       "    fig.cell_info = mpl.find_output_cell(\"<div id='\" + id + \"'></div>\");\n",
       "    if (!fig.cell_info) {\n",
       "        console.error(\"Failed to find cell for figure\", id, fig);\n",
       "        return;\n",
       "    }\n",
       "\n",
       "    var output_index = fig.cell_info[2]\n",
       "    var cell = fig.cell_info[0];\n",
       "\n",
       "};\n",
       "\n",
       "mpl.figure.prototype.handle_close = function(fig, msg) {\n",
       "    var width = fig.canvas.width/mpl.ratio\n",
       "    fig.root.unbind('remove')\n",
       "\n",
       "    // Update the output cell to use the data from the current canvas.\n",
       "    fig.push_to_output();\n",
       "    var dataURL = fig.canvas.toDataURL();\n",
       "    // Re-enable the keyboard manager in IPython - without this line, in FF,\n",
       "    // the notebook keyboard shortcuts fail.\n",
       "    IPython.keyboard_manager.enable()\n",
       "    $(fig.parent_element).html('<img src=\"' + dataURL + '\" width=\"' + width + '\">');\n",
       "    fig.close_ws(fig, msg);\n",
       "}\n",
       "\n",
       "mpl.figure.prototype.close_ws = function(fig, msg){\n",
       "    fig.send_message('closing', msg);\n",
       "    // fig.ws.close()\n",
       "}\n",
       "\n",
       "mpl.figure.prototype.push_to_output = function(remove_interactive) {\n",
       "    // Turn the data on the canvas into data in the output cell.\n",
       "    var width = this.canvas.width/mpl.ratio\n",
       "    var dataURL = this.canvas.toDataURL();\n",
       "    this.cell_info[1]['text/html'] = '<img src=\"' + dataURL + '\" width=\"' + width + '\">';\n",
       "}\n",
       "\n",
       "mpl.figure.prototype.updated_canvas_event = function() {\n",
       "    // Tell IPython that the notebook contents must change.\n",
       "    IPython.notebook.set_dirty(true);\n",
       "    this.send_message(\"ack\", {});\n",
       "    var fig = this;\n",
       "    // Wait a second, then push the new image to the DOM so\n",
       "    // that it is saved nicely (might be nice to debounce this).\n",
       "    setTimeout(function () { fig.push_to_output() }, 1000);\n",
       "}\n",
       "\n",
       "mpl.figure.prototype._init_toolbar = function() {\n",
       "    var fig = this;\n",
       "\n",
       "    var nav_element = $('<div/>')\n",
       "    nav_element.attr('style', 'width: 100%');\n",
       "    this.root.append(nav_element);\n",
       "\n",
       "    // Define a callback function for later on.\n",
       "    function toolbar_event(event) {\n",
       "        return fig.toolbar_button_onclick(event['data']);\n",
       "    }\n",
       "    function toolbar_mouse_event(event) {\n",
       "        return fig.toolbar_button_onmouseover(event['data']);\n",
       "    }\n",
       "\n",
       "    for(var toolbar_ind in mpl.toolbar_items){\n",
       "        var name = mpl.toolbar_items[toolbar_ind][0];\n",
       "        var tooltip = mpl.toolbar_items[toolbar_ind][1];\n",
       "        var image = mpl.toolbar_items[toolbar_ind][2];\n",
       "        var method_name = mpl.toolbar_items[toolbar_ind][3];\n",
       "\n",
       "        if (!name) { continue; };\n",
       "\n",
       "        var button = $('<button class=\"btn btn-default\" href=\"#\" title=\"' + name + '\"><i class=\"fa ' + image + ' fa-lg\"></i></button>');\n",
       "        button.click(method_name, toolbar_event);\n",
       "        button.mouseover(tooltip, toolbar_mouse_event);\n",
       "        nav_element.append(button);\n",
       "    }\n",
       "\n",
       "    // Add the status bar.\n",
       "    var status_bar = $('<span class=\"mpl-message\" style=\"text-align:right; float: right;\"/>');\n",
       "    nav_element.append(status_bar);\n",
       "    this.message = status_bar[0];\n",
       "\n",
       "    // Add the close button to the window.\n",
       "    var buttongrp = $('<div class=\"btn-group inline pull-right\"></div>');\n",
       "    var button = $('<button class=\"btn btn-mini btn-primary\" href=\"#\" title=\"Stop Interaction\"><i class=\"fa fa-power-off icon-remove icon-large\"></i></button>');\n",
       "    button.click(function (evt) { fig.handle_close(fig, {}); } );\n",
       "    button.mouseover('Stop Interaction', toolbar_mouse_event);\n",
       "    buttongrp.append(button);\n",
       "    var titlebar = this.root.find($('.ui-dialog-titlebar'));\n",
       "    titlebar.prepend(buttongrp);\n",
       "}\n",
       "\n",
       "mpl.figure.prototype._root_extra_style = function(el){\n",
       "    var fig = this\n",
       "    el.on(\"remove\", function(){\n",
       "\tfig.close_ws(fig, {});\n",
       "    });\n",
       "}\n",
       "\n",
       "mpl.figure.prototype._canvas_extra_style = function(el){\n",
       "    // this is important to make the div 'focusable\n",
       "    el.attr('tabindex', 0)\n",
       "    // reach out to IPython and tell the keyboard manager to turn it's self\n",
       "    // off when our div gets focus\n",
       "\n",
       "    // location in version 3\n",
       "    if (IPython.notebook.keyboard_manager) {\n",
       "        IPython.notebook.keyboard_manager.register_events(el);\n",
       "    }\n",
       "    else {\n",
       "        // location in version 2\n",
       "        IPython.keyboard_manager.register_events(el);\n",
       "    }\n",
       "\n",
       "}\n",
       "\n",
       "mpl.figure.prototype._key_event_extra = function(event, name) {\n",
       "    var manager = IPython.notebook.keyboard_manager;\n",
       "    if (!manager)\n",
       "        manager = IPython.keyboard_manager;\n",
       "\n",
       "    // Check for shift+enter\n",
       "    if (event.shiftKey && event.which == 13) {\n",
       "        this.canvas_div.blur();\n",
       "        event.shiftKey = false;\n",
       "        // Send a \"J\" for go to next cell\n",
       "        event.which = 74;\n",
       "        event.keyCode = 74;\n",
       "        manager.command_mode();\n",
       "        manager.handle_keydown(event);\n",
       "    }\n",
       "}\n",
       "\n",
       "mpl.figure.prototype.handle_save = function(fig, msg) {\n",
       "    fig.ondownload(fig, null);\n",
       "}\n",
       "\n",
       "\n",
       "mpl.find_output_cell = function(html_output) {\n",
       "    // Return the cell and output element which can be found *uniquely* in the notebook.\n",
       "    // Note - this is a bit hacky, but it is done because the \"notebook_saving.Notebook\"\n",
       "    // IPython event is triggered only after the cells have been serialised, which for\n",
       "    // our purposes (turning an active figure into a static one), is too late.\n",
       "    var cells = IPython.notebook.get_cells();\n",
       "    var ncells = cells.length;\n",
       "    for (var i=0; i<ncells; i++) {\n",
       "        var cell = cells[i];\n",
       "        if (cell.cell_type === 'code'){\n",
       "            for (var j=0; j<cell.output_area.outputs.length; j++) {\n",
       "                var data = cell.output_area.outputs[j];\n",
       "                if (data.data) {\n",
       "                    // IPython >= 3 moved mimebundle to data attribute of output\n",
       "                    data = data.data;\n",
       "                }\n",
       "                if (data['text/html'] == html_output) {\n",
       "                    return [cell, data, j];\n",
       "                }\n",
       "            }\n",
       "        }\n",
       "    }\n",
       "}\n",
       "\n",
       "// Register the function which deals with the matplotlib target/channel.\n",
       "// The kernel may be null if the page has been refreshed.\n",
       "if (IPython.notebook.kernel != null) {\n",
       "    IPython.notebook.kernel.comm_manager.register_target('matplotlib', mpl.mpl_figure_comm);\n",
       "}\n"
      ],
      "text/plain": [
       "<IPython.core.display.Javascript object>"
      ]
     },
     "metadata": {},
     "output_type": "display_data"
    },
    {
     "data": {
      "text/html": [
       "<img src=\"data:image/png;base64,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\" width=\"639.8333333333334\">"
      ],
      "text/plain": [
       "<IPython.core.display.HTML object>"
      ]
     },
     "metadata": {},
     "output_type": "display_data"
    },
    {
     "data": {
      "text/plain": [
       "<matplotlib.collections.PathCollection at 0x7fe0e43c5198>"
      ]
     },
     "execution_count": 281,
     "metadata": {},
     "output_type": "execute_result"
    }
   ],
   "source": [
    "plt.scatter(Xs_test,ys_test,c='green')\n",
    "plt.scatter(Xs_test,res,c='blue')"
   ]
  },
  {
   "cell_type": "code",
   "execution_count": null,
   "metadata": {},
   "outputs": [],
   "source": []
  }
 ],
 "metadata": {
  "kernelspec": {
   "display_name": "Python 3",
   "language": "python",
   "name": "python3"
  },
  "language_info": {
   "codemirror_mode": {
    "name": "ipython",
    "version": 3
   },
   "file_extension": ".py",
   "mimetype": "text/x-python",
   "name": "python",
   "nbconvert_exporter": "python",
   "pygments_lexer": "ipython3",
   "version": "3.6.8"
  }
 },
 "nbformat": 4,
 "nbformat_minor": 2
}
